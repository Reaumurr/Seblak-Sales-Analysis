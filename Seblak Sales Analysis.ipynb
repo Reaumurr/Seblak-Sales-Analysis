{
 "cells": [
  {
   "cell_type": "markdown",
   "metadata": {},
   "source": [
    "# 1. Import Libraries & Tools"
   ]
  },
  {
   "cell_type": "code",
   "execution_count": 1,
   "metadata": {},
   "outputs": [],
   "source": [
    "from bs4 import BeautifulSoup\n",
    "from selenium import webdriver\n",
    "import time\n",
    "import pandas as pd\n",
    "import numpy as np\n",
    "from scipy import stats\n",
    "import matplotlib.pyplot as plt\n",
    "import seaborn as sns\n",
    "from IPython.core.display import display, HTML"
   ]
  },
  {
   "cell_type": "code",
   "execution_count": 2,
   "metadata": {},
   "outputs": [],
   "source": [
    "# Membuka browser\n",
    "driver = webdriver.Chrome()"
   ]
  },
  {
   "cell_type": "code",
   "execution_count": 4,
   "metadata": {},
   "outputs": [],
   "source": [
    "# Mengakses link dengan webdriver\n",
    "url = 'https://www.tokopedia.com/search?navsource=&page=1&q=seblak&srp_component_id=02.01.00.00&srp_page_id=&srp_page_title=&st='\n",
    "driver.get(url)"
   ]
  },
  {
   "cell_type": "code",
   "execution_count": 5,
   "metadata": {},
   "outputs": [],
   "source": [
    "# Mengambil element html\n",
    "html = driver.page_source\n",
    "\n",
    "# Menguraikan element HTML nya\n",
    "soup = BeautifulSoup(html, 'html.parser')"
   ]
  },
  {
   "cell_type": "markdown",
   "metadata": {},
   "source": [
    "# 2. Web Scraping"
   ]
  },
  {
   "cell_type": "markdown",
   "metadata": {},
   "source": [
    "Proses penulisan code untuk melakukan pengambilan data seblak di website tokopedia dengan membuat list kosong untuk menampung hasil web scraping dan membuat iterasi agar bisa menjalankan scrapping di 10 halaman"
   ]
  },
  {
   "cell_type": "code",
   "execution_count": 35,
   "metadata": {},
   "outputs": [
    {
     "name": "stdout",
     "output_type": "stream",
     "text": [
      "<class 'pandas.core.frame.DataFrame'>\n",
      "RangeIndex: 1116 entries, 0 to 1115\n",
      "Data columns (total 6 columns):\n",
      " #   Column        Non-Null Count  Dtype \n",
      "---  ------        --------------  ----- \n",
      " 0   Nama Produk   1116 non-null   object\n",
      " 1   Harga Produk  1116 non-null   object\n",
      " 2   Nama Toko     1044 non-null   object\n",
      " 3   Lokasi        1044 non-null   object\n",
      " 4   Terjual       1094 non-null   object\n",
      " 5   Rating        1063 non-null   object\n",
      "dtypes: object(6)\n",
      "memory usage: 52.4+ KB\n"
     ]
    }
   ],
   "source": [
    "# Membuat list kosong untuk menampung data seblak yang akan kita scraping di website tokopedia\n",
    "list_nama = []\n",
    "list_harga = []\n",
    "list_toko = []\n",
    "list_lokasi = []\n",
    "list_terjual = []\n",
    "list_rating = []\n",
    "\n",
    "# Membuat iterasi agar bisa menjalankan scrapping di 10 halaman\n",
    "for i in range(1, 11):\n",
    "    url = f\"https://www.tokopedia.com/search?navsource=&page={i}&q=seblak&srp_component_id=02.01.00.00&srp_page_id=&srp_page_title=&st=\"\n",
    "    driver.get(url)\n",
    "\n",
    "    # Membuat time sleep agar proses scrapping menunggu 10 detik untuk meload data di website sebelum berpindah ke halaman berikutnya\n",
    "    time.sleep(10)\n",
    "    html = driver.page_source\n",
    "    soup = BeautifulSoup(html, \"html.parser\")\n",
    "\n",
    "    # Menentukan box agar proses pengambilan data terfokus pada 1 box\n",
    "    boxes = soup.find_all('div', {'class': 'css-1asz3by'})\n",
    "    for box in boxes:\n",
    "        # Check if the product is not a promotion (adjust class or other criteria as needed)\n",
    "        if 'css-1rzg7ys' not in box.get('class', []):\n",
    "            try:\n",
    "                element_nama = box.find('div', {'class': \"prd_link-product-name css-3um8ox\"})\n",
    "                list_nama.append(element_nama.get_text())\n",
    "            except:\n",
    "                list_nama.append(None)\n",
    "\n",
    "            try:\n",
    "                element_harga = box.find('div', {'class': \"prd_link-product-price css-h66vau\"})\n",
    "                list_harga.append(element_harga.get_text())\n",
    "            except:\n",
    "                list_harga.append(None)\n",
    "\n",
    "            try:\n",
    "                element_toko = box.find('span', {'class': \"prd_link-shop-name css-1kdc32b flip\"})\n",
    "                list_toko.append(element_toko.get_text())\n",
    "            except:\n",
    "                list_toko.append(None)\n",
    "\n",
    "            try:\n",
    "                element_lokasi = box.find('span', {'class': \"prd_link-shop-loc css-1kdc32b flip\"})\n",
    "                list_lokasi.append(element_lokasi.get_text())\n",
    "            except:\n",
    "                list_lokasi.append(None)\n",
    "\n",
    "            try:\n",
    "                element_terjual = box.find('span', {'class': \"prd_label-integrity css-1sgek4h\"})\n",
    "                list_terjual.append(element_terjual.get_text().split()[0])\n",
    "            except:\n",
    "                list_terjual.append(None)\n",
    "\n",
    "            try:\n",
    "                element_rating = box.find('span', {'class': \"prd_rating-average-text css-t70v7i\"})\n",
    "                list_rating.append(element_rating.get_text())\n",
    "            except:\n",
    "                list_rating.append(None)\n",
    "\n",
    "data = pd.DataFrame()\n",
    "\n",
    "data['Nama Produk'] = list_nama\n",
    "data['Harga Produk'] = list_harga\n",
    "data['Nama Toko'] = list_toko\n",
    "data['Lokasi'] = list_lokasi\n",
    "data['Terjual'] = list_terjual\n",
    "data['Rating'] = list_rating\n",
    "\n",
    "data.info()"
   ]
  },
  {
   "cell_type": "markdown",
   "metadata": {},
   "source": [
    "## Analisa DataFrame\n",
    "\n",
    "* Terdapat 6 kolom dengan `Nama Produk`, `Harga Produk`, `Nama Toko`, `Lokasi`, `Terjual`, `Rating` dengan tipe data masih berupa **String**\n",
    "* Untuk tipe data di kolom `Harga Produk`, `Terjual`, dan `Rating` akan kita ubah menjadi **numerik** agar nantinya dapat dilakukan analisa penjualan"
   ]
  },
  {
   "cell_type": "markdown",
   "metadata": {},
   "source": [
    "# 3. Data Preparation"
   ]
  },
  {
   "cell_type": "markdown",
   "metadata": {},
   "source": [
    "Menampilkan hasil data yg telah di scrapping menjadi dataframe"
   ]
  },
  {
   "cell_type": "code",
   "execution_count": 39,
   "metadata": {},
   "outputs": [
    {
     "data": {
      "text/html": [
       "<div>\n",
       "<style scoped>\n",
       "    .dataframe tbody tr th:only-of-type {\n",
       "        vertical-align: middle;\n",
       "    }\n",
       "\n",
       "    .dataframe tbody tr th {\n",
       "        vertical-align: top;\n",
       "    }\n",
       "\n",
       "    .dataframe thead th {\n",
       "        text-align: right;\n",
       "    }\n",
       "</style>\n",
       "<table border=\"1\" class=\"dataframe\">\n",
       "  <thead>\n",
       "    <tr style=\"text-align: right;\">\n",
       "      <th></th>\n",
       "      <th>Nama Produk</th>\n",
       "      <th>Harga Produk</th>\n",
       "      <th>Nama Toko</th>\n",
       "      <th>Lokasi</th>\n",
       "      <th>Terjual</th>\n",
       "      <th>Rating</th>\n",
       "    </tr>\n",
       "  </thead>\n",
       "  <tbody>\n",
       "    <tr>\n",
       "      <th>0</th>\n",
       "      <td>Kylafood Seblak Mie Baso</td>\n",
       "      <td>Rp24.200</td>\n",
       "      <td>None</td>\n",
       "      <td>None</td>\n",
       "      <td>4</td>\n",
       "      <td>4.9</td>\n",
       "    </tr>\n",
       "    <tr>\n",
       "      <th>1</th>\n",
       "      <td>Seblak Karuhun</td>\n",
       "      <td>Rp11.880</td>\n",
       "      <td>None</td>\n",
       "      <td>None</td>\n",
       "      <td>60+</td>\n",
       "      <td>5.0</td>\n",
       "    </tr>\n",
       "    <tr>\n",
       "      <th>2</th>\n",
       "      <td>Kylafood Seblak Mie Baso Sapi Play</td>\n",
       "      <td>Rp24.200</td>\n",
       "      <td>None</td>\n",
       "      <td>None</td>\n",
       "      <td>250+</td>\n",
       "      <td>4.9</td>\n",
       "    </tr>\n",
       "    <tr>\n",
       "      <th>3</th>\n",
       "      <td>Kylafood Seblak Original</td>\n",
       "      <td>Rp15.750</td>\n",
       "      <td>kylafood</td>\n",
       "      <td>Bandung</td>\n",
       "      <td>10rb+</td>\n",
       "      <td>4.9</td>\n",
       "    </tr>\n",
       "    <tr>\n",
       "      <th>4</th>\n",
       "      <td>Kylafood Paket ( Seblak Original, Batagor, Cir...</td>\n",
       "      <td>Rp86.130</td>\n",
       "      <td>kylafood</td>\n",
       "      <td>Bandung</td>\n",
       "      <td>750+</td>\n",
       "      <td>4.9</td>\n",
       "    </tr>\n",
       "    <tr>\n",
       "      <th>...</th>\n",
       "      <td>...</td>\n",
       "      <td>...</td>\n",
       "      <td>...</td>\n",
       "      <td>...</td>\n",
       "      <td>...</td>\n",
       "      <td>...</td>\n",
       "    </tr>\n",
       "    <tr>\n",
       "      <th>1111</th>\n",
       "      <td>[250 gr] Kerupuk Seblak Pedas</td>\n",
       "      <td>Rp11.500</td>\n",
       "      <td>CamilanJati</td>\n",
       "      <td>Kab. Sidoarjo</td>\n",
       "      <td>50+</td>\n",
       "      <td>5.0</td>\n",
       "    </tr>\n",
       "    <tr>\n",
       "      <th>1112</th>\n",
       "      <td>Gelifood Seblak Instan Kerupuk Mawar Bumbu Ken...</td>\n",
       "      <td>Rp15.000</td>\n",
       "      <td>Lidigeli</td>\n",
       "      <td>Kab. Garut</td>\n",
       "      <td>250+</td>\n",
       "      <td>4.8</td>\n",
       "    </tr>\n",
       "    <tr>\n",
       "      <th>1113</th>\n",
       "      <td>Geli Food Seblak Ceker Tanpa Tulang Super Peda...</td>\n",
       "      <td>Rp24.000</td>\n",
       "      <td>Lidigeli</td>\n",
       "      <td>Kab. Garut</td>\n",
       "      <td>100+</td>\n",
       "      <td>4.8</td>\n",
       "    </tr>\n",
       "    <tr>\n",
       "      <th>1114</th>\n",
       "      <td>Seblak Instan Pedas Home Made</td>\n",
       "      <td>Rp3.500</td>\n",
       "      <td>the Dhecip</td>\n",
       "      <td>Tangerang Selatan</td>\n",
       "      <td>3rb+</td>\n",
       "      <td>4.9</td>\n",
       "    </tr>\n",
       "    <tr>\n",
       "      <th>1115</th>\n",
       "      <td>Seblak Instan Komplit Pedas Gurih Nikmat</td>\n",
       "      <td>Rp5.999</td>\n",
       "      <td>Baso Aci Ayang</td>\n",
       "      <td>Kab. Garut</td>\n",
       "      <td>3rb+</td>\n",
       "      <td>4.9</td>\n",
       "    </tr>\n",
       "  </tbody>\n",
       "</table>\n",
       "<p>1116 rows × 6 columns</p>\n",
       "</div>"
      ],
      "text/plain": [
       "                                            Nama Produk Harga Produk  \\\n",
       "0                              Kylafood Seblak Mie Baso     Rp24.200   \n",
       "1                                        Seblak Karuhun     Rp11.880   \n",
       "2                    Kylafood Seblak Mie Baso Sapi Play     Rp24.200   \n",
       "3                              Kylafood Seblak Original     Rp15.750   \n",
       "4     Kylafood Paket ( Seblak Original, Batagor, Cir...     Rp86.130   \n",
       "...                                                 ...          ...   \n",
       "1111                      [250 gr] Kerupuk Seblak Pedas     Rp11.500   \n",
       "1112  Gelifood Seblak Instan Kerupuk Mawar Bumbu Ken...     Rp15.000   \n",
       "1113  Geli Food Seblak Ceker Tanpa Tulang Super Peda...     Rp24.000   \n",
       "1114                      Seblak Instan Pedas Home Made      Rp3.500   \n",
       "1115           Seblak Instan Komplit Pedas Gurih Nikmat      Rp5.999   \n",
       "\n",
       "           Nama Toko             Lokasi Terjual Rating  \n",
       "0               None               None       4    4.9  \n",
       "1               None               None     60+    5.0  \n",
       "2               None               None    250+    4.9  \n",
       "3           kylafood            Bandung   10rb+    4.9  \n",
       "4           kylafood            Bandung    750+    4.9  \n",
       "...              ...                ...     ...    ...  \n",
       "1111     CamilanJati      Kab. Sidoarjo     50+    5.0  \n",
       "1112        Lidigeli         Kab. Garut    250+    4.8  \n",
       "1113        Lidigeli         Kab. Garut    100+    4.8  \n",
       "1114      the Dhecip  Tangerang Selatan    3rb+    4.9  \n",
       "1115  Baso Aci Ayang         Kab. Garut    3rb+    4.9  \n",
       "\n",
       "[1116 rows x 6 columns]"
      ]
     },
     "execution_count": 39,
     "metadata": {},
     "output_type": "execute_result"
    }
   ],
   "source": [
    "data"
   ]
  },
  {
   "cell_type": "markdown",
   "metadata": {},
   "source": [
    "Insight dan Langkah yg akan dilakukan:\n",
    "\n",
    "* Data yg kita dapatkan adalah sebanyak **1115** data dengan terdapat beberapa kolom missing value dan duplikat yg nantinya akan kita drop\n",
    "* Untuk tipe data masih berupa `string`\n",
    "* Kita akan lakukan normalisasi kolom `Harga Produk`dengan menghilangkan `Rp` dan `.` dan mengubah tipe datanya menjadi `numerik` \n",
    "* Untuk kolom terjual terisi dengan `60+, 250+, 10rb+`, lalu kita akan lakukan normalisasi dengan menghilangkan `+`, mengubah `rb` menjadi angka ribuan `000` lalu mengubah tipe datanya menjadi `numerik`"
   ]
  },
  {
   "cell_type": "markdown",
   "metadata": {},
   "source": [
    "## Proses Normalisasi"
   ]
  },
  {
   "cell_type": "code",
   "execution_count": 57,
   "metadata": {},
   "outputs": [
    {
     "name": "stdout",
     "output_type": "stream",
     "text": [
      "<class 'pandas.core.frame.DataFrame'>\n",
      "Index: 108 entries, 3 to 1009\n",
      "Data columns (total 6 columns):\n",
      " #   Column        Non-Null Count  Dtype \n",
      "---  ------        --------------  ----- \n",
      " 0   Nama Produk   108 non-null    object\n",
      " 1   Harga Produk  108 non-null    int64 \n",
      " 2   Nama Toko     108 non-null    object\n",
      " 3   Lokasi        108 non-null    object\n",
      " 4   Terjual       108 non-null    int64 \n",
      " 5   Rating        108 non-null    object\n",
      "dtypes: int64(2), object(4)\n",
      "memory usage: 5.9+ KB\n"
     ]
    }
   ],
   "source": [
    "data_cleaned = data.drop_duplicates().dropna()\n",
    "data_cleaned['Terjual'] = data_cleaned['Terjual'].astype('str').str.replace('+', '').str.replace('rb', '000')\n",
    "data_cleaned['Terjual'] = pd.to_numeric(data_cleaned['Terjual'], errors='coerce')\n",
    "data_cleaned['Harga Produk'] = data_cleaned['Harga Produk'].astype('str').str.replace('Rp', '').str.replace('.', '')\n",
    "data_cleaned['Harga Produk'] = pd.to_numeric(data_cleaned['Harga Produk'], errors='coerce')\n",
    "\n",
    "data_cleaned.info()\n",
    "data_cleaned.to_csv('Seblak.csv', index=False)"
   ]
  },
  {
   "cell_type": "markdown",
   "metadata": {},
   "source": [
    "Setelah dilakukan normalisasi, kita extract data menjadi `CSV` agar nantinya bisa kita gunakan untuk analisa tanpa perlu melakukan webscrapping kembali"
   ]
  },
  {
   "cell_type": "markdown",
   "metadata": {},
   "source": [
    "# 4. Data Loading"
   ]
  },
  {
   "cell_type": "code",
   "execution_count": 8,
   "metadata": {},
   "outputs": [
    {
     "data": {
      "text/html": [
       "<div>\n",
       "<style scoped>\n",
       "    .dataframe tbody tr th:only-of-type {\n",
       "        vertical-align: middle;\n",
       "    }\n",
       "\n",
       "    .dataframe tbody tr th {\n",
       "        vertical-align: top;\n",
       "    }\n",
       "\n",
       "    .dataframe thead th {\n",
       "        text-align: right;\n",
       "    }\n",
       "</style>\n",
       "<table border=\"1\" class=\"dataframe\">\n",
       "  <thead>\n",
       "    <tr style=\"text-align: right;\">\n",
       "      <th></th>\n",
       "      <th>Nama Produk</th>\n",
       "      <th>Harga Produk</th>\n",
       "      <th>Nama Toko</th>\n",
       "      <th>Lokasi</th>\n",
       "      <th>Terjual</th>\n",
       "      <th>Rating</th>\n",
       "    </tr>\n",
       "  </thead>\n",
       "  <tbody>\n",
       "    <tr>\n",
       "      <th>0</th>\n",
       "      <td>Kylafood Seblak Original</td>\n",
       "      <td>15750</td>\n",
       "      <td>kylafood</td>\n",
       "      <td>Bandung</td>\n",
       "      <td>10000</td>\n",
       "      <td>4.9</td>\n",
       "    </tr>\n",
       "    <tr>\n",
       "      <th>1</th>\n",
       "      <td>Kylafood Paket ( Seblak Original, Batagor, Cir...</td>\n",
       "      <td>86130</td>\n",
       "      <td>kylafood</td>\n",
       "      <td>Bandung</td>\n",
       "      <td>750</td>\n",
       "      <td>4.9</td>\n",
       "    </tr>\n",
       "    <tr>\n",
       "      <th>2</th>\n",
       "      <td>Kylafood Seblak Rempah Autentik 115gr, Seblak ...</td>\n",
       "      <td>9900</td>\n",
       "      <td>Brother Meat Shop</td>\n",
       "      <td>Depok</td>\n",
       "      <td>100</td>\n",
       "      <td>5.0</td>\n",
       "    </tr>\n",
       "    <tr>\n",
       "      <th>3</th>\n",
       "      <td>Seblak Rafael/Seblak Coet Instan Halal</td>\n",
       "      <td>26600</td>\n",
       "      <td>Foodstocks</td>\n",
       "      <td>Jakarta Selatan</td>\n",
       "      <td>50</td>\n",
       "      <td>5.0</td>\n",
       "    </tr>\n",
       "    <tr>\n",
       "      <th>4</th>\n",
       "      <td>Seblak Rafael, Seblak Coet Instan Halal</td>\n",
       "      <td>23750</td>\n",
       "      <td>Brother Meat Shop</td>\n",
       "      <td>Depok</td>\n",
       "      <td>500</td>\n",
       "      <td>4.9</td>\n",
       "    </tr>\n",
       "    <tr>\n",
       "      <th>...</th>\n",
       "      <td>...</td>\n",
       "      <td>...</td>\n",
       "      <td>...</td>\n",
       "      <td>...</td>\n",
       "      <td>...</td>\n",
       "      <td>...</td>\n",
       "    </tr>\n",
       "    <tr>\n",
       "      <th>103</th>\n",
       "      <td>Gurilem Pedas</td>\n",
       "      <td>18500</td>\n",
       "      <td>Bite and Munch</td>\n",
       "      <td>Bandung</td>\n",
       "      <td>100</td>\n",
       "      <td>4.8</td>\n",
       "    </tr>\n",
       "    <tr>\n",
       "      <th>104</th>\n",
       "      <td>Basreng Sangarrr</td>\n",
       "      <td>18900</td>\n",
       "      <td>The Little Snacks</td>\n",
       "      <td>Tangerang Selatan</td>\n",
       "      <td>3000</td>\n",
       "      <td>4.8</td>\n",
       "    </tr>\n",
       "    <tr>\n",
       "      <th>105</th>\n",
       "      <td>Bakso Aci Instan Murah Asli Bandung Frozen Bas...</td>\n",
       "      <td>5997</td>\n",
       "      <td>Berkah Food Bandung</td>\n",
       "      <td>Cimahi</td>\n",
       "      <td>10000</td>\n",
       "      <td>4.9</td>\n",
       "    </tr>\n",
       "    <tr>\n",
       "      <th>106</th>\n",
       "      <td>LepLep - Basreng</td>\n",
       "      <td>9000</td>\n",
       "      <td>101_Project</td>\n",
       "      <td>Tangerang</td>\n",
       "      <td>250</td>\n",
       "      <td>4.8</td>\n",
       "    </tr>\n",
       "    <tr>\n",
       "      <th>107</th>\n",
       "      <td>Basreng Sangarrr</td>\n",
       "      <td>19900</td>\n",
       "      <td>The Little Snacks</td>\n",
       "      <td>Tangerang Selatan</td>\n",
       "      <td>750</td>\n",
       "      <td>4.7</td>\n",
       "    </tr>\n",
       "  </tbody>\n",
       "</table>\n",
       "<p>108 rows × 6 columns</p>\n",
       "</div>"
      ],
      "text/plain": [
       "                                           Nama Produk  Harga Produk  \\\n",
       "0                             Kylafood Seblak Original         15750   \n",
       "1    Kylafood Paket ( Seblak Original, Batagor, Cir...         86130   \n",
       "2    Kylafood Seblak Rempah Autentik 115gr, Seblak ...          9900   \n",
       "3               Seblak Rafael/Seblak Coet Instan Halal         26600   \n",
       "4              Seblak Rafael, Seblak Coet Instan Halal         23750   \n",
       "..                                                 ...           ...   \n",
       "103                                      Gurilem Pedas         18500   \n",
       "104                                   Basreng Sangarrr         18900   \n",
       "105  Bakso Aci Instan Murah Asli Bandung Frozen Bas...          5997   \n",
       "106                                   LepLep - Basreng          9000   \n",
       "107                                   Basreng Sangarrr         19900   \n",
       "\n",
       "               Nama Toko             Lokasi  Terjual  Rating  \n",
       "0               kylafood            Bandung    10000     4.9  \n",
       "1               kylafood            Bandung      750     4.9  \n",
       "2      Brother Meat Shop              Depok      100     5.0  \n",
       "3             Foodstocks    Jakarta Selatan       50     5.0  \n",
       "4      Brother Meat Shop              Depok      500     4.9  \n",
       "..                   ...                ...      ...     ...  \n",
       "103       Bite and Munch            Bandung      100     4.8  \n",
       "104    The Little Snacks  Tangerang Selatan     3000     4.8  \n",
       "105  Berkah Food Bandung             Cimahi    10000     4.9  \n",
       "106          101_Project          Tangerang      250     4.8  \n",
       "107    The Little Snacks  Tangerang Selatan      750     4.7  \n",
       "\n",
       "[108 rows x 6 columns]"
      ]
     },
     "execution_count": 8,
     "metadata": {},
     "output_type": "execute_result"
    }
   ],
   "source": [
    "seblak = pd.read_csv('Seblak.csv')\n",
    "seblak"
   ]
  },
  {
   "cell_type": "markdown",
   "metadata": {},
   "source": [
    "# 5. Business Understanding/Problem Statement\n"
   ]
  },
  {
   "cell_type": "markdown",
   "metadata": {},
   "source": [
    "## Defining the Problem Statements\n",
    "\n",
    "Using SMART framework:\n",
    "\n",
    "1. **Specific**: Menganalisa penjualan seblak di tokopedia untuk menentukan potensi pasar dan peluang bisnis\n",
    "\n",
    "2. **Measurable**: Menjual 500 produk di awal\n",
    "\n",
    "3. **Achievable**: Menjual dengan harga yg bersaing\n",
    "\n",
    "4. **Relevant**: Tetap mendapatkan margin dengan persaingan harga.\n",
    "\n",
    "5. **Time-Bound**: Dilakukan dalam waktu 3 bulan.\n",
    "\n",
    "`Problem statement`:\n",
    "\n",
    "Analisa penjualan seblak di tokopedia untuk menentukan potensi pasar dan peluang bisnis dengan menjual 500 produk di awal dengan harga bersaing namun tetap mendapatkan margin ditengah persaingan harga dan dilakukan dalam waktu 3 bulan"
   ]
  },
  {
   "cell_type": "markdown",
   "metadata": {},
   "source": [
    "# 6. Analysis"
   ]
  },
  {
   "cell_type": "code",
   "execution_count": 10,
   "metadata": {},
   "outputs": [
    {
     "data": {
      "text/html": [
       "<center><b><h3>Data Penjualan Seblak</h3></b></center><br>"
      ],
      "text/plain": [
       "<IPython.core.display.HTML object>"
      ]
     },
     "metadata": {},
     "output_type": "display_data"
    },
    {
     "data": {
      "text/html": [
       "<div>\n",
       "<style scoped>\n",
       "    .dataframe tbody tr th:only-of-type {\n",
       "        vertical-align: middle;\n",
       "    }\n",
       "\n",
       "    .dataframe tbody tr th {\n",
       "        vertical-align: top;\n",
       "    }\n",
       "\n",
       "    .dataframe thead th {\n",
       "        text-align: right;\n",
       "    }\n",
       "</style>\n",
       "<table border=\"1\" class=\"dataframe\">\n",
       "  <thead>\n",
       "    <tr style=\"text-align: right;\">\n",
       "      <th></th>\n",
       "      <th>Nama Produk</th>\n",
       "      <th>Harga Produk</th>\n",
       "      <th>Nama Toko</th>\n",
       "      <th>Lokasi</th>\n",
       "      <th>Terjual</th>\n",
       "      <th>Rating</th>\n",
       "    </tr>\n",
       "  </thead>\n",
       "  <tbody>\n",
       "    <tr>\n",
       "      <th>0</th>\n",
       "      <td>Kylafood Seblak Original</td>\n",
       "      <td>15750</td>\n",
       "      <td>kylafood</td>\n",
       "      <td>Bandung</td>\n",
       "      <td>10000</td>\n",
       "      <td>4.9</td>\n",
       "    </tr>\n",
       "    <tr>\n",
       "      <th>1</th>\n",
       "      <td>Kylafood Paket ( Seblak Original, Batagor, Cir...</td>\n",
       "      <td>86130</td>\n",
       "      <td>kylafood</td>\n",
       "      <td>Bandung</td>\n",
       "      <td>750</td>\n",
       "      <td>4.9</td>\n",
       "    </tr>\n",
       "    <tr>\n",
       "      <th>2</th>\n",
       "      <td>Kylafood Seblak Rempah Autentik 115gr, Seblak ...</td>\n",
       "      <td>9900</td>\n",
       "      <td>Brother Meat Shop</td>\n",
       "      <td>Depok</td>\n",
       "      <td>100</td>\n",
       "      <td>5.0</td>\n",
       "    </tr>\n",
       "    <tr>\n",
       "      <th>3</th>\n",
       "      <td>Seblak Rafael/Seblak Coet Instan Halal</td>\n",
       "      <td>26600</td>\n",
       "      <td>Foodstocks</td>\n",
       "      <td>Jakarta Selatan</td>\n",
       "      <td>50</td>\n",
       "      <td>5.0</td>\n",
       "    </tr>\n",
       "    <tr>\n",
       "      <th>4</th>\n",
       "      <td>Seblak Rafael, Seblak Coet Instan Halal</td>\n",
       "      <td>23750</td>\n",
       "      <td>Brother Meat Shop</td>\n",
       "      <td>Depok</td>\n",
       "      <td>500</td>\n",
       "      <td>4.9</td>\n",
       "    </tr>\n",
       "  </tbody>\n",
       "</table>\n",
       "</div>"
      ],
      "text/plain": [
       "                                         Nama Produk  Harga Produk  \\\n",
       "0                           Kylafood Seblak Original         15750   \n",
       "1  Kylafood Paket ( Seblak Original, Batagor, Cir...         86130   \n",
       "2  Kylafood Seblak Rempah Autentik 115gr, Seblak ...          9900   \n",
       "3             Seblak Rafael/Seblak Coet Instan Halal         26600   \n",
       "4            Seblak Rafael, Seblak Coet Instan Halal         23750   \n",
       "\n",
       "           Nama Toko           Lokasi  Terjual  Rating  \n",
       "0           kylafood          Bandung    10000     4.9  \n",
       "1           kylafood          Bandung      750     4.9  \n",
       "2  Brother Meat Shop            Depok      100     5.0  \n",
       "3         Foodstocks  Jakarta Selatan       50     5.0  \n",
       "4  Brother Meat Shop            Depok      500     4.9  "
      ]
     },
     "metadata": {},
     "output_type": "display_data"
    }
   ],
   "source": [
    "display(HTML('<center><b><h3>Data Penjualan Seblak</h3></b></center><br>'))\n",
    "display(seblak.head())"
   ]
  },
  {
   "cell_type": "code",
   "execution_count": 6,
   "metadata": {},
   "outputs": [
    {
     "name": "stdout",
     "output_type": "stream",
     "text": [
      "Rata-Rata Harga Seblak: 24448.574074074073\n",
      "Median of Harga Seblak: 16750.0\n",
      "STD of Harga Seblak: 25002.019117044154\n",
      "Skewness Harga Seblak: 2.8631605027359437\n",
      "Kurtosis Harga Seblak: 11.317568740439752\n",
      "\n",
      "\n",
      "Rata-Rata Seblak Terjual: 834.2222222222222\n",
      "Median of Seblak Terjual: 100.0\n",
      "STD of Seblak Terjual: 1986.2458805040515\n",
      "Skewness Harga Seblak: 3.5039173245436306\n",
      "Kurtosis Harga Seblak: 12.461512277090455\n",
      "\n",
      "\n",
      "Rata-Rata Rating Seblak: 4.883333333333333\n",
      "Median of Rating Seblak: 4.9\n",
      "STD of Rating Seblak: 0.10721626323839006\n",
      "Skewness Rating Seblak: -1.3288640692126024\n",
      "Kurtosis Rating Seblak: 3.30794434707869\n"
     ]
    }
   ],
   "source": [
    "print('Rata-Rata Harga Seblak:',seblak['Harga Produk'].mean())\n",
    "print('Median of Harga Seblak:',seblak['Harga Produk'].median())\n",
    "print('STD of Harga Seblak:',seblak['Harga Produk'].std())\n",
    "print(f\"Skewness Harga Seblak: {seblak['Harga Produk'].skew()}\")\n",
    "print(f\"Kurtosis Harga Seblak: {seblak['Harga Produk'].kurtosis()}\")\n",
    "print('\\n')\n",
    "print('Rata-Rata Seblak Terjual:',seblak['Terjual'].mean())\n",
    "print('Median of Seblak Terjual:',seblak['Terjual'].median())\n",
    "print('STD of Seblak Terjual:',seblak['Terjual'].std())\n",
    "print(f\"Skewness Harga Seblak: {seblak['Terjual'].skew()}\")\n",
    "print(f\"Kurtosis Harga Seblak: {seblak['Terjual'].kurtosis()}\")\n",
    "print('\\n')\n",
    "print('Rata-Rata Rating Seblak:',seblak['Rating'].mean())\n",
    "print('Median of Rating Seblak:',seblak['Rating'].median())\n",
    "print('STD of Rating Seblak:',seblak['Rating'].std())\n",
    "print(f\"Skewness Rating Seblak: {seblak['Rating'].skew()}\")\n",
    "print(f\"Kurtosis Rating Seblak: {seblak['Rating'].kurtosis()}\")"
   ]
  },
  {
   "cell_type": "markdown",
   "metadata": {},
   "source": [
    "## Analisa Kesimpulan Rata-Rata, Median, Standar Deviasi, Skewness, dan Kurtosis\n",
    "\n",
    "Harga Seblak:\n",
    "\n",
    "* Rata-rata harga Seblak adalah sekitar 24,448 dengan median 16,750 yang menunjukkan bahwa distribusi harga mungkin cenderung condong ke arah nilai yang lebih rendah karena median lebih rendah dari rata-rata.\n",
    "* Standar deviasi harga Seblak 25,002. Hal ini menunjukkan bahwa ada variasi yang signifikan dalam harga Seblak.\n",
    "* Skewness harga Seblak 2.86, yang menunjukkan bahwa distribusinya bersifat positif highly skewed\n",
    "* Kurtosis harga Seblak 11.32 lebih tinggi dari dari 0 yg mengindikasikan Leptokurtic Distribution"
   ]
  },
  {
   "cell_type": "markdown",
   "metadata": {},
   "source": [
    "Jumlah Penjualan Seblak:\n",
    "\n",
    "* Rata-rata jumlah Seblak yang terjual adalah sekitar 834.22 dengan median 100 yg menunjukkan bahwa ada potensi outlier dan distribusi data tidak simetris\n",
    "* Standar deviasi seblak yg terjual 1986.24 menunjukkan banyaknya persebaran variasi dari jumlah seblak yg terjual\n",
    "* Skewness seblak yg terjual 3.5 menunjukkan bahwa distribusinya bersifat positif highly skewed\n",
    "* Kurtosis seblak yg terjual 12.46 lebih tinggi dari 0 yg mengindikasikan Leptokurtic Distribution"
   ]
  },
  {
   "cell_type": "markdown",
   "metadata": {},
   "source": [
    "Rating Seblak:\n",
    "\n",
    "* Rata-rata rating Seblak adalah sekitar 4.88 dengan median 4.9 yg berarti rating berada di sekitar median\n",
    "* Standar deviasi rating Seblak adalah sekitar 0.107 yg menunjukkan bahwa variasi rating cenderung rendah\n",
    "* Skwness rating seblak -1.33 menunjukkan bahwa distribusinya bersifat negatif highly skewed\n",
    "* Kurtosis rating seblak 3.31 lebih tinggi dari 0 yg mengindikasikan Leptokurtic Distribution"
   ]
  },
  {
   "cell_type": "markdown",
   "metadata": {},
   "source": [
    "Dari analisis ini, dapat disimpulkan bahwa harga dan jumlah penjualan Seblak memiliki variasi yang besar, dengan adanya kemungkinan adanya outlier yang mempengaruhi distribusi. Sementara itu, rating Seblak cenderung stabil dengan variasi yang lebih rendah"
   ]
  },
  {
   "cell_type": "markdown",
   "metadata": {},
   "source": [
    "## Potensi Minimum dan Maksimum Pendapatan Jika Menjual Produk Seblak"
   ]
  },
  {
   "cell_type": "code",
   "execution_count": 11,
   "metadata": {},
   "outputs": [
    {
     "name": "stdout",
     "output_type": "stream",
     "text": [
      "Lower Limit: 19733.252714749593\n",
      "Upper Limit: 29163.895433398553\n"
     ]
    }
   ],
   "source": [
    "std = seblak['Harga Produk'].std()\n",
    "N = len(seblak['Harga Produk'])\n",
    "low, up = stats.norm.interval(0.95,loc=seblak['Harga Produk'].mean(),scale=std/np.sqrt(N))\n",
    "print('Lower Limit:',low)\n",
    "print('Upper Limit:',up)"
   ]
  },
  {
   "cell_type": "markdown",
   "metadata": {},
   "source": [
    "Dengan menggunakan 95% Confidence Interval kita bisa 95% yakin bahwa rata-rata harga produk yang sebenarnya berada di antara batas bawah `19733` dan batas atas `29163`"
   ]
  },
  {
   "cell_type": "code",
   "execution_count": 12,
   "metadata": {},
   "outputs": [
    {
     "name": "stdout",
     "output_type": "stream",
     "text": [
      "Potensi Pendapatan Minimum: 9866626.357374797\n",
      "Potensi Pendapatan Maksimum: 14581947.716699276\n"
     ]
    }
   ],
   "source": [
    "print('Potensi Pendapatan Minimum:',low * 500)\n",
    "print('Potensi Pendapatan Maksimum:',up * 500)"
   ]
  },
  {
   "cell_type": "markdown",
   "metadata": {},
   "source": [
    "Dengan target penjualan produk 500 pertama dan berdasarkan batas atas dan bawah bisa disimpulkan kalau Potensi pendapatan maksimum adalah `14.581.947` dan potensi pendapatan minimum `9.866.626`"
   ]
  },
  {
   "cell_type": "markdown",
   "metadata": {},
   "source": [
    "## Hipotesa Harga Barang Jabodetabek dengan Non Jabodetabek"
   ]
  },
  {
   "cell_type": "code",
   "execution_count": 38,
   "metadata": {},
   "outputs": [
    {
     "data": {
      "text/plain": [
       "Lokasi\n",
       "Bandung              14\n",
       "Kab. Garut           14\n",
       "Jakarta Selatan      10\n",
       "Tangerang Selatan     7\n",
       "Jakarta Barat         7\n",
       "Tangerang             6\n",
       "Kab. Bogor            6\n",
       "Jakarta Pusat         5\n",
       "Cimahi                5\n",
       "Kab. Tangerang        5\n",
       "Jakarta Timur         5\n",
       "Kab. Bandung          4\n",
       "Tasikmalaya           3\n",
       "Surabaya              3\n",
       "Kab. Bekasi           2\n",
       "Depok                 2\n",
       "Bekasi                2\n",
       "Kab. Sidoarjo         1\n",
       "Malang                1\n",
       "Medan                 1\n",
       "Semarang              1\n",
       "Surakarta             1\n",
       "Kab. Jember           1\n",
       "Kab. Boyolali         1\n",
       "Kab. Nganjuk          1\n",
       "Name: count, dtype: int64"
      ]
     },
     "execution_count": 38,
     "metadata": {},
     "output_type": "execute_result"
    }
   ],
   "source": [
    "seblak['Lokasi'].value_counts()"
   ]
  },
  {
   "cell_type": "markdown",
   "metadata": {},
   "source": [
    "Untuk tahap awal kita menghitung dulu ada berapa lokasi toko yg ada di `JABODETABEK` dan `Luar JABODETABEK`"
   ]
  },
  {
   "cell_type": "code",
   "execution_count": 46,
   "metadata": {},
   "outputs": [],
   "source": [
    "jabodetabek = seblak[seblak['Lokasi'].isin(['Jakarta Selatan', 'Jakarta Timur', 'Tangerang Selatan',\n",
    "                                    'Jakarta Barat', 'Kab. Bogor', 'Jakarta Pusat', 'Tangerang', 'Bekasi'])]\n",
    "luar_jabodetabek = seblak[~seblak['Lokasi'].isin(['Jakarta Selatan', 'Jakarta Timur', 'Tangerang Selatan',\n",
    "                                           'Jakarta Barat', 'Kab. Bogor', 'Jakarta Pusat', 'Tangerang', 'Bekasi'])]\n"
   ]
  },
  {
   "cell_type": "markdown",
   "metadata": {},
   "source": [
    "Menghitung Rata-Rata Harga Barang di `JABODETABEK` dan `LUAR JABODETABEK`"
   ]
  },
  {
   "cell_type": "code",
   "execution_count": 52,
   "metadata": {},
   "outputs": [
    {
     "name": "stdout",
     "output_type": "stream",
     "text": [
      "Average Harga Jabodetabek = 22161.125\n",
      "Average Harga Luar Jabodetabek = 26278.533333333333\n"
     ]
    }
   ],
   "source": [
    "print('Average Harga Jabodetabek =',jabodetabek['Harga Produk'].mean())\n",
    "print('Average Harga Luar Jabodetabek =',luar_jabodetabek['Harga Produk'].mean())"
   ]
  },
  {
   "cell_type": "markdown",
   "metadata": {},
   "source": [
    "Dapat disimpulkan rata-rata harga di Luar `JABODETABEK` lebih tinggi dibanding Harga di `JABODETABEK`"
   ]
  },
  {
   "cell_type": "markdown",
   "metadata": {},
   "source": [
    "## Pengujian Menggunakan Two-Sample Independent Test"
   ]
  },
  {
   "cell_type": "markdown",
   "metadata": {},
   "source": [
    "Two-Sample Independent Test digunakan untuk menguji perbedaan signifikan antara dua sampel data yang berbeda/independen. Variasi lain dari Two-Sample Test adalah Paired Test. Dalam Paired Test, kejadian-kejadian pada kelompok yang diamati saling berkaitan satu sama lain. Secara teknis menguji apakah perubahannya cenderung ke arah positif atau negatif."
   ]
  },
  {
   "cell_type": "markdown",
   "metadata": {},
   "source": [
    "**H0** : Tidak ada perbedaan signifikan dalam harga barang antara Jabodetabek dan di luar Jabodetabek.\n",
    "\n",
    "**H1** : Ada perbedaan signifikan dalam harga barang antara Jabodetabek dan di luar Jabodetabek."
   ]
  },
  {
   "cell_type": "code",
   "execution_count": 50,
   "metadata": {},
   "outputs": [
    {
     "name": "stdout",
     "output_type": "stream",
     "text": [
      "T-Statistic: -0.8493113886218836\n",
      "P-value: 0.3976221340624516\n"
     ]
    }
   ],
   "source": [
    "t_stat, p_val = stats.ttest_ind(jabodetabek['Harga Produk'],luar_jabodetabek['Harga Produk'])\n",
    "print('T-Statistic:',t_stat)\n",
    "print('P-value:',p_val)"
   ]
  },
  {
   "cell_type": "markdown",
   "metadata": {},
   "source": [
    "Karena P-value 0.3976 lebih besar dari 0.05, kita gagal menolak H0. Artinya, tidak ada bukti yang cukup untuk menyatakan bahwa ada perbedaan signifikan dalam harga barang antara Jabodetabek dan di luar Jabodetabek.\n",
    "\n",
    "Jadi, kesimpulan dari analisis ini adalah bahwa berdasarkan data yang diberikan, tidak ada perbedaan signifikan dalam harga barang antara Jabodetabek dan di luar Jabodetabek."
   ]
  },
  {
   "cell_type": "markdown",
   "metadata": {},
   "source": [
    "## Pengujian apakah orang cenderung lebih suka dengan produk yg harganya murah"
   ]
  },
  {
   "cell_type": "code",
   "execution_count": 13,
   "metadata": {},
   "outputs": [
    {
     "data": {
      "text/plain": [
       "<seaborn.axisgrid.FacetGrid at 0x251678beb50>"
      ]
     },
     "execution_count": 13,
     "metadata": {},
     "output_type": "execute_result"
    },
    {
     "data": {
      "image/png": "[encoded data removed]",
      "text/plain": [
       "<Figure size 500x500 with 1 Axes>"
      ]
     },
     "metadata": {},
     "output_type": "display_data"
    }
   ],
   "source": [
    "sns.lmplot(data=seblak, x='Rating', y='Harga Produk')"
   ]
  },
  {
   "cell_type": "code",
   "execution_count": 14,
   "metadata": {},
   "outputs": [
    {
     "name": "stdout",
     "output_type": "stream",
     "text": [
      "r-correlation: 0.13, p-value: 0.19394855875948672\n"
     ]
    }
   ],
   "source": [
    "corr_r, pval_p = stats.pearsonr(seblak['Rating'], seblak['Harga Produk'])\n",
    "\n",
    "print(f\"r-correlation: {corr_r:.2f}, p-value: {pval_p}\")"
   ]
  },
  {
   "cell_type": "markdown",
   "metadata": {},
   "source": [
    "Untuk pengujian kita menggunakan teknik Pearson dikarenakan hubungannya datanya numerik dan dianggap terdistribusi normal.\n",
    "Dengan demikian, analisa menyimpulkan bahwa meskipun terdapat hubungan yg positif antara rating dan produk namun hubungannya lemah dan tidak signifikan. Bisa diasumsikan mungkin ada faktor yg lain yg mempengaruhi kesukaan pelanggan terhadap produk selain dari harga"
   ]
  },
  {
   "cell_type": "markdown",
   "metadata": {},
   "source": [
    "# 7. Conclusion"
   ]
  },
  {
   "cell_type": "markdown",
   "metadata": {},
   "source": [
    "**Kesimpulan yang dapat diambil dari proses pengujian adalah:**\n",
    "\n",
    "Untuk mencapai target penjualan awal 500 pcs dengan harga bersaing namun tetap mendapatkan margin dalam waktu 3 bulan kita bisa menjual dengan harga sedikit lebih rendah dari harga rata-rata namun tidak melewati batas atas `Rp. 19,733` dan batas bawah `Rp. 29,163` dari harga produk dengan potensi pendapatan maksimum dan minimum dari penjualan seblak adalah sekitar `Rp. 14,581,947` dan `Rp. 9,866,626`. Target penjualan 500 pcs mungkin bisa dicapai sebab target penjualan masih jauh dibawah rata-rata seblak terjual. Kita juga bisa menjual produk kita di JABODETABEK dan LUAR JABODETABEK karena tidak ada perbedaan harga yg signifikan, dan juga harga tidak terlalu mempengaruhi keputus pelanggan dalam membeli produk."
   ]
  }
 ],
 "metadata": {
  "kernelspec": {
   "display_name": "base",
   "language": "python",
   "name": "python3"
  },
  "language_info": {
   "codemirror_mode": {
    "name": "ipython",
    "version": 3
   },
   "file_extension": ".py",
   "mimetype": "text/x-python",
   "name": "python",
   "nbconvert_exporter": "python",
   "pygments_lexer": "ipython3",
   "version": "3.9.18"
  }
 },
 "nbformat": 4,
 "nbformat_minor": 2
}
